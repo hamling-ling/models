{
 "cells": [
  {
   "cell_type": "code",
   "execution_count": null,
   "metadata": {},
   "outputs": [],
   "source": [
    "import numpy as np\n",
    "import tensorflow as tf\n",
    "%matplotlib inline\n",
    "import matplotlib.pyplot as plt\n",
    "from datasets import dataset_factory\n",
    "from preprocessing import preprocessing_factory\n",
    "slim = tf.contrib.slim"
   ]
  },
  {
   "cell_type": "code",
   "execution_count": null,
   "metadata": {},
   "outputs": [],
   "source": [
    "batch_size=32\n",
    "\n",
    "dataset_dir = \"cifar10_data\"\n",
    "dataset = dataset_factory.get_dataset(\"cifar10\", \"test\", dataset_dir)\n",
    "\n",
    "provider = slim.dataset_data_provider.DatasetDataProvider(\n",
    "    dataset,\n",
    "    shuffle=False,\n",
    "    common_queue_capacity=batch_size*5,\n",
    "    common_queue_min=batch_size*2)\n",
    "[image, label] = provider.get(['image', 'label'])\n",
    "\n",
    "preprocessing_name = \"cifarnet\"\n",
    "image_preprocessing_fn = preprocessing_factory.get_preprocessing(\n",
    "    preprocessing_name,\n",
    "    is_training=False)\n",
    "\n",
    "eval_image_size = 32\n",
    "image = image_preprocessing_fn(image, eval_image_size, eval_image_size)\n",
    "\n",
    "images, labels = tf.train.batch(\n",
    "    [image, label],\n",
    "    batch_size=batch_size,\n",
    "    num_threads=1,\n",
    "    capacity=5 * 1)"
   ]
  },
  {
   "cell_type": "code",
   "execution_count": null,
   "metadata": {},
   "outputs": [],
   "source": [
    "coord = tf.train.Coordinator()\n",
    "\n",
    "gpu_options = tf.GPUOptions(allow_growth=True)\n",
    "session_config = tf.ConfigProto(gpu_options=gpu_options)\n",
    "with tf.Session(config=session_config) as sess:\n",
    "    sess.run(tf.local_variables_initializer())\n",
    "    threads = tf.train.start_queue_runners(sess, coord)\n",
    "    images_eval, labels_eval = sess.run([images, labels])\n",
    "    coord.request_stop()\n",
    "    coord.join(threads)"
   ]
  },
  {
   "cell_type": "code",
   "execution_count": null,
   "metadata": {},
   "outputs": [],
   "source": [
    "def to_uint8(x):\n",
    "    x = 128.0 * x + 127.0\n",
    "    x = np.clip(x, 0.0, 255.0)\n",
    "    x  = x.astype(np.uint8)\n",
    "    return x"
   ]
  },
  {
   "cell_type": "code",
   "execution_count": null,
   "metadata": {},
   "outputs": [],
   "source": [
    "index = 0\n",
    "im_list = images_eval[index]\n",
    "#[0]airplane(飛行機), [1]automobile（自動車）, [2]bird（鳥）, [3]cat（猫）, [4]deer（鹿）, [5]dog（犬）, [6]frog（蛙）, [7]horse（馬）, [8]ship（船）, [9]truck（トラック）の10種類\n",
    "print(labels_eval[index])\n",
    "im_list = to_uint8(im_list)\n",
    "plt.imshow(im_list)\n",
    "plt.show()"
   ]
  },
  {
   "cell_type": "code",
   "execution_count": null,
   "metadata": {},
   "outputs": [],
   "source": [
    "interpreter = tf.contrib.lite.Interpreter(model_path=\"quantized_cifarnet.tflite\")\n",
    "interpreter.allocate_tensors()\n",
    "\n",
    "input_details = interpreter.get_input_details()\n",
    "output_details = interpreter.get_output_details()\n",
    "\n",
    "print(input_details)\n",
    "print(output_details)"
   ]
  },
  {
   "cell_type": "code",
   "execution_count": null,
   "metadata": {},
   "outputs": [],
   "source": [
    "def inference_tflite(image_raw):\n",
    "    tflite_input  = image_raw.reshape([1, 32, 32, 3])\n",
    "    \n",
    "    interpreter.set_tensor(input_details[0]['index'], tflite_input)\n",
    "    interpreter.invoke()\n",
    "    interpreter_output = interpreter.get_tensor(output_details[0]['index'])\n",
    "    \n",
    "    return np.argmax(interpreter_output)"
   ]
  },
  {
   "cell_type": "code",
   "execution_count": null,
   "metadata": {},
   "outputs": [],
   "source": [
    "def inference_frozen(image_raw):\n",
    "    tf.reset_default_graph()\n",
    "    with tf.gfile.GFile(\"frozen_cifarnet.pb\", \"rb\") as f:\n",
    "        graph_def = tf.GraphDef()\n",
    "        graph_def.ParseFromString(f.read())\n",
    "\n",
    "    with tf.Graph().as_default() as gf:\n",
    "        tf.import_graph_def(graph_def, name=\"prefix\")\n",
    "        graph = gf\n",
    "    \n",
    "    X=graph.get_tensor_by_name('prefix/input:0')\n",
    "    output_node = graph.get_tensor_by_name('prefix/CifarNet/Predictions/Softmax:0')\n",
    "    with tf.Session(graph=graph) as sess:\n",
    "        frozen_output=output_node.eval({X: image_raw})\n",
    "        prediction = np.argmax(frozen_output)\n",
    "    return prediction"
   ]
  },
  {
   "cell_type": "code",
   "execution_count": null,
   "metadata": {},
   "outputs": [],
   "source": [
    "print(\"[index] truth fp32 ui8\") \n",
    "for index in range(0,31):\n",
    "    image_raw = images_eval[index]\n",
    "    image_raw = image_raw.reshape([1,32,32,3])\n",
    "    image_ui8 = to_uint8(image_raw)\n",
    "    ret_tflite = inference_tflite(image_ui8)\n",
    "    ret_frozen = inference_frozen(image_raw)\n",
    "    print(\"[\", index, \"]\", labels_eval[index], ret_frozen, ret_tflite)"
   ]
  },
  {
   "cell_type": "code",
   "execution_count": null,
   "metadata": {},
   "outputs": [],
   "source": []
  }
 ],
 "metadata": {
  "kernelspec": {
   "display_name": "Python 3",
   "language": "python",
   "name": "python3"
  },
  "language_info": {
   "codemirror_mode": {
    "name": "ipython",
    "version": 3
   },
   "file_extension": ".py",
   "mimetype": "text/x-python",
   "name": "python",
   "nbconvert_exporter": "python",
   "pygments_lexer": "ipython3",
   "version": "3.5.2"
  }
 },
 "nbformat": 4,
 "nbformat_minor": 2
}
